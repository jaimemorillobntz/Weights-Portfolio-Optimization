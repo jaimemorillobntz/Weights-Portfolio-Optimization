{
 "cells": [
  {
   "cell_type": "markdown",
   "metadata": {},
   "source": [
    "PROYECTO DE OPTIMIZACIÓN MATEMÁTICO DE LA CARTERA DEL UPV Investment Club"
   ]
  },
  {
   "cell_type": "code",
   "execution_count": 107,
   "metadata": {},
   "outputs": [],
   "source": [
    "import yfinance as yf\n",
    "import numpy as np\n",
    "import pandas as pd"
   ]
  },
  {
   "cell_type": "markdown",
   "metadata": {},
   "source": [
    "Una vez importadas las librerías definimos las primeras funciones del código: Recoger datos desde la creación de la cartera y calcular los rendimientos logarítmicos diarios de los activos en cartera."
   ]
  },
  {
   "cell_type": "code",
   "execution_count": 108,
   "metadata": {},
   "outputs": [],
   "source": [
    "def obtener_datos(tickers, start_date):\n",
    "    # Descargar datos históricos de precios de cierre ajustados\n",
    "    data = yf.download(tickers, start=start_date)\n",
    "    precios_cierre = data['Adj Close']\n",
    "    return precios_cierre\n",
    "\n",
    "def calcular_rendimientos_logaritmicos(precios_cierre):\n",
    "    # Calcular los rendimientos logarítmicos diarios\n",
    "    rendimientos_logaritmicos = np.log(precios_cierre / precios_cierre.shift(1)).dropna()\n",
    "    return rendimientos_logaritmicos\n",
    "def calcular_rendimiento_logaritmico(rendimientos_logaritmicos):\n",
    "    rendimiento_logaritmico=np.mean(rendimientos_logaritmicos)\n",
    "    return rendimiento_logaritmico"
   ]
  },
  {
   "cell_type": "markdown",
   "metadata": {},
   "source": [
    "Definimos los tickers de nuestro portafolio y una fecha cercana a la creación de la cartera para ajustar el riesgo y rendimiento respecto a datos cercanos e influyentes para nosotros"
   ]
  },
  {
   "cell_type": "code",
   "execution_count": 109,
   "metadata": {},
   "outputs": [],
   "source": [
    "# Definir los tickers de las acciones y la fecha de inicio\n",
    "tickers = ['ULTA','TXN','SOM.L','POOL','PLUS.L','P8X.BE','MSFT', 'MC', 'EVO.ST','DHR','DNP.WA']\n",
    "start_date = '2023-01-01'"
   ]
  },
  {
   "cell_type": "code",
   "execution_count": 110,
   "metadata": {},
   "outputs": [
    {
     "name": "stdout",
     "output_type": "stream",
     "text": [
      "[*********************100%***********************]  11 of 11 completed\n"
     ]
    },
    {
     "name": "stderr",
     "output_type": "stream",
     "text": [
      "c:\\Users\\jamob\\AppData\\Local\\Programs\\Python\\Python311\\Lib\\site-packages\\numpy\\core\\fromnumeric.py:3462: FutureWarning: In a future version, DataFrame.mean(axis=None) will return a scalar mean over the entire DataFrame. To retain the old behavior, use 'frame.mean(axis=0)' or just 'frame.mean()'\n",
      "  return mean(axis=axis, dtype=dtype, out=out, **kwargs)\n"
     ]
    }
   ],
   "source": [
    "# Obtener los datos de precios de cierre\n",
    "precios_cierre = obtener_datos(tickers, start_date)\n",
    "\n",
    "# Calcular los rendimientos logaritmicos diarios\n",
    "rl= calcular_rendimientos_logaritmicos(precios_cierre)\n",
    "\n",
    "# Calcular el rendimiento esperado diario\n",
    "rendimiento_esperado_diario = calcular_rendimiento_logaritmico(rl)\n",
    "\n",
    "# Calcular el rendimiento esperado anual\n",
    "dias_negociacion_anuales = 252\n",
    "rendimiento_esperado_anual = rendimiento_esperado_diario * dias_negociacion_anuales"
   ]
  },
  {
   "cell_type": "code",
   "execution_count": 111,
   "metadata": {},
   "outputs": [
    {
     "name": "stdout",
     "output_type": "stream",
     "text": [
      "El rendimiento esperado anual de los activos es:\n",
      " DHR       0.041026\n",
      "DNP.WA   -0.044361\n",
      "EVO.ST    0.092589\n",
      "MC        0.353549\n",
      "MSFT      0.616716\n",
      "P8X.BE    0.265510\n",
      "PLUS.L    0.250875\n",
      "POOL      0.232413\n",
      "SOM.L    -0.175416\n",
      "TXN       0.075269\n",
      "ULTA      0.108784\n",
      "dtype: float64\n"
     ]
    }
   ],
   "source": [
    "# Mostrar los resultados\n",
    "print(\"El rendimiento esperado anual de los activos es:\\n\", rendimiento_esperado_anual)"
   ]
  },
  {
   "cell_type": "markdown",
   "metadata": {},
   "source": [
    "El uso de los cierres ajustados es lo que hace que tanto el rendimiento de PAX como el de PLUS500 se diferencie tanto del incremento del precio interanual, ya que tenemos en cuenta el ajuste debido a los dividendos pagados, en mayor parte, y demás ajustes por eventos corporativos de estas 2 empresas."
   ]
  },
  {
   "cell_type": "markdown",
   "metadata": {},
   "source": [
    "Una vez tenemos los rendimientos esperados podemos crear la matriz varianza-covarianza para obtener el riesgo de cada activo (varianza) y la covarianza entre ellos"
   ]
  },
  {
   "cell_type": "code",
   "execution_count": 112,
   "metadata": {},
   "outputs": [],
   "source": [
    "def calcular_matriz_covarianza(rendimientos_simples):\n",
    "    # Calcular la matriz de covarianza de los rendimientos logarítmicos\n",
    "    matriz_covarianza = rendimientos_simples.cov()\n",
    "    return matriz_covarianza"
   ]
  },
  {
   "cell_type": "code",
   "execution_count": 113,
   "metadata": {},
   "outputs": [
    {
     "name": "stdout",
     "output_type": "stream",
     "text": [
      "\n",
      "Matriz de covarianza:\n",
      "             DHR    DNP.WA    EVO.ST        MC      MSFT    P8X.BE    PLUS.L  \\\n",
      "DHR     0.000232  0.000058  0.000030  0.000109  0.000052  0.000016  0.000008   \n",
      "DNP.WA  0.000058  0.000459  0.000094  0.000049  0.000022  0.000095  0.000003   \n",
      "EVO.ST  0.000030  0.000094  0.000327  0.000076  0.000063  0.000042  0.000045   \n",
      "MC      0.000109  0.000049  0.000076  0.000422  0.000030  0.000042  0.000039   \n",
      "MSFT    0.000052  0.000022  0.000063  0.000030  0.000236  0.000025  0.000006   \n",
      "P8X.BE  0.000016  0.000095  0.000042  0.000042  0.000025  0.001241  0.000045   \n",
      "PLUS.L  0.000008  0.000003  0.000045  0.000039  0.000006  0.000045  0.000191   \n",
      "POOL    0.000133  0.000052  0.000097  0.000167  0.000070  0.000091  0.000042   \n",
      "SOM.L   0.000019  0.000013  0.000071  0.000015  0.000047 -0.000116  0.000020   \n",
      "TXN     0.000079  0.000021  0.000058  0.000115  0.000072  0.000050  0.000018   \n",
      "ULTA    0.000042  0.000028  0.000029  0.000077  0.000009  0.000080  0.000041   \n",
      "\n",
      "            POOL     SOM.L       TXN      ULTA  \n",
      "DHR     0.000133  0.000019  0.000079  0.000042  \n",
      "DNP.WA  0.000052  0.000013  0.000021  0.000028  \n",
      "EVO.ST  0.000097  0.000071  0.000058  0.000029  \n",
      "MC      0.000167  0.000015  0.000115  0.000077  \n",
      "MSFT    0.000070  0.000047  0.000072  0.000009  \n",
      "P8X.BE  0.000091 -0.000116  0.000050  0.000080  \n",
      "PLUS.L  0.000042  0.000020  0.000018  0.000041  \n",
      "POOL    0.000379  0.000031  0.000135  0.000091  \n",
      "SOM.L   0.000031  0.000512  0.000024 -0.000024  \n",
      "TXN     0.000135  0.000024  0.000219  0.000037  \n",
      "ULTA    0.000091 -0.000024  0.000037  0.000298  \n"
     ]
    }
   ],
   "source": [
    "# Calcular la matriz de covarianza\n",
    "matriz_covarianza = calcular_matriz_covarianza(rl)\n",
    "\n",
    "print(\"\\nMatriz de covarianza:\")\n",
    "print(matriz_covarianza)"
   ]
  },
  {
   "cell_type": "markdown",
   "metadata": {},
   "source": [
    "Queremos comprobar que la matriz es definida positiva, al ser la matriz de covarianza simétrica e invertible (no debería haber activos redundantes) y la varianza positiva por definición. Esto también asegura que el punto hallado sea un mínimo, que es lo buscado."
   ]
  },
  {
   "cell_type": "code",
   "execution_count": 114,
   "metadata": {},
   "outputs": [
    {
     "name": "stdout",
     "output_type": "stream",
     "text": [
      "La matriz de covarianza es definida positiva.\n"
     ]
    }
   ],
   "source": [
    "# Calcula los eigenvalores de la matriz de covarianza\n",
    "eigenvalores = np.linalg.eigvals(matriz_covarianza)\n",
    "\n",
    "# Verifica si todos los eigenvalores son positivos\n",
    "es_definida_positiva = np.all(eigenvalores > 0)\n",
    "\n",
    "# Muestra el resultado\n",
    "if es_definida_positiva:\n",
    "    print(\"La matriz de covarianza es definida positiva.\")\n",
    "else:\n",
    "    print(\"La matriz de covarianza NO es definida positiva.\")"
   ]
  },
  {
   "cell_type": "markdown",
   "metadata": {},
   "source": [
    "Ahora para los siguientes cálculos nos hará falta la inversa de la matriz de covarianza"
   ]
  },
  {
   "cell_type": "code",
   "execution_count": 115,
   "metadata": {},
   "outputs": [],
   "source": [
    "# Calcula la inversa de la matriz de covarianza\n",
    "matriz_covarianza_inversa = np.linalg.inv(matriz_covarianza)"
   ]
  },
  {
   "cell_type": "markdown",
   "metadata": {},
   "source": [
    "Ahora vamos a proceder a calcular el vector de pesos (w) que minimiza el riesgo gracias a un problema general de optimización que hemos adaptado a nuestro caso, habiendo encontrado este resultado fruto de usar Multiplicadores de Lagrange con la condición de pesos, las hipótesis del problema general están satisfechas gracias a la estructura del problema, y que la matriz de covarianza sea definida positiva."
   ]
  },
  {
   "cell_type": "code",
   "execution_count": 116,
   "metadata": {},
   "outputs": [
    {
     "name": "stdout",
     "output_type": "stream",
     "text": [
      "Valores de w: [ 0.14737435  0.07952134  0.04383241  0.01674819  0.15187154  0.0263288\n",
      "  0.25047962 -0.06769626  0.09094684  0.12802874  0.13256443]\n",
      "Riesgo mínimo: 6.066493703746242e-05\n",
      "Rendimiento: 0.16835979516564883\n"
     ]
    }
   ],
   "source": [
    "# Calcula los valores de w\n",
    "unos = np.ones(len(rendimiento_esperado_anual))\n",
    "w_numerador = np.dot(matriz_covarianza_inversa, unos)\n",
    "w_denominador = np.dot(np.dot(unos, matriz_covarianza_inversa), unos)\n",
    "w =(w_numerador / w_denominador)\n",
    "\n",
    "# Calcula el riesgo mínimo\n",
    "riesgo_minimo = np.dot(np.dot(w, matriz_covarianza), w.T)\n",
    "\n",
    "# Calcula el rendimiento\n",
    "rendimiento = np.dot(rendimiento_esperado_anual, w.T)\n",
    "\n",
    "# Muestra los resultados\n",
    "print(\"Valores de w:\", w)\n",
    "print(\"Riesgo mínimo:\", riesgo_minimo)\n",
    "print(\"Rendimiento:\", rendimiento)"
   ]
  },
  {
   "cell_type": "markdown",
   "metadata": {},
   "source": [
    "Podemos observar como para algún activo (POOL) da un peso negativo, esto implicaría estar en corto en ese activo, lo cual no va con nuestro estilo de inversión. Ahora surgen varias opciones de rebalanceo o incluir como segunda condición que w_i>=0. \n",
    "\n",
    "También podemos observar como teóricamente el rendimiento esperado anual es del 16.8% y el riesgo del 0.006%  a fecha 25/03/2024\n",
    "\n",
    "%Realizado en Mathematica"
   ]
  },
  {
   "cell_type": "code",
   "execution_count": 117,
   "metadata": {},
   "outputs": [
    {
     "name": "stdout",
     "output_type": "stream",
     "text": [
      "Valores de w: {'w1': 0.127615, 'w2': 0.0813164, 'w3': 0.0355548, 'w4': 0.00552349, 'w5': 0.150369, 'w6': 0.0244974, 'w7': 0.249733, 'w8': 7.45822e-06, 'w9': 0.0916031, 'w10': 0.108875, 'w11': 0.124906}\n",
      "Riesgo mínimo: 6.173668842425698e-05\n",
      "Rendimiento: 0.17447971096170817\n"
     ]
    }
   ],
   "source": [
    "# Definición de los pesos w\n",
    "w = {\n",
    "    'w1': 0.127615,\n",
    "    'w2': 0.0813164,\n",
    "    'w3': 0.0355548,\n",
    "    'w4': 0.00552349,\n",
    "    'w5': 0.150369,\n",
    "    'w6': 0.0244974,\n",
    "    'w7': 0.249733,\n",
    "    'w8': 7.45822e-6,\n",
    "    'w9': 0.0916031,\n",
    "    'w10': 0.108875,\n",
    "    'w11': 0.124906\n",
    "}\n",
    "\n",
    "# Calcula el riesgo mínimo\n",
    "riesgo_minimo = np.dot(np.dot(list(w.values()), matriz_covarianza), list(w.values()))\n",
    "\n",
    "# Calcula el rendimiento\n",
    "rendimiento = np.dot(rendimiento_esperado_anual, list(w.values()))\n",
    "\n",
    "# Muestra los resultados\n",
    "print(\"Valores de w:\", w)\n",
    "print(\"Riesgo mínimo:\", riesgo_minimo)\n",
    "print(\"Rendimiento:\", rendimiento)"
   ]
  },
  {
   "cell_type": "markdown",
   "metadata": {},
   "source": [
    "Con estos datos podemos observar un rendimiento esperado del 17.44% y un riesgo del 0.006% a fecha 25/03/2024, donde no tenemos ningun activo en corto a diferencia de la resolución anterior, pero nuestro riesgo es mayor.\n",
    "\n",
    "La gran diferencia entre este rendimiento teórico y el de nuestra cartera se puede deber a varios factores:\n",
    "-Nuestra cartera no ha tenido todos los activos generando rendimientos positivos desde el 01/01/23, esta cartera sí\n",
    "-La cartera está optimizada respecto a datos pasados luego su comportamiento respecto a estos datos es el mejor, puede que si estos pesos se dejan un mes den un rendimiento muy buena, pero no tan espectacular como este *La optimización respecto a riesgos futuros sería el siguiente paso, así como su rebalanceo*"
   ]
  },
  {
   "cell_type": "markdown",
   "metadata": {},
   "source": [
    "Como extensión podemos aplicar a nuestro análisis también la fórmula del modelo CAPM (para mero hecho comparativo), aunque este es un método que no se utiliza actualmente para optimizar, aun así es visto en las escuelas debido a su importancia y a la de todo el estudio de Markowitz los cuales fueron los predecesores."
   ]
  },
  {
   "cell_type": "code",
   "execution_count": 118,
   "metadata": {},
   "outputs": [
    {
     "name": "stdout",
     "output_type": "stream",
     "text": [
      "El valor de w2 es: [-0.35529724 -0.10802558 -0.18583804  0.45298634  1.40388695  0.02985926\n",
      "  0.50630134  0.12915896 -0.29832237 -0.52569936 -0.04901027]\n",
      "Riesgo mínimo: 0.0005354373191413565\n",
      "Rendimiento: 1.1713564883488548\n"
     ]
    }
   ],
   "source": [
    "numerador_w2 = np.dot((rendimiento_esperado_anual - 0.0402 * unos),matriz_covarianza_inversa)\n",
    "denominador_w2 = np.dot(np.dot((rendimiento_esperado_anual - 0.0402 * unos),matriz_covarianza_inversa),unos)\n",
    "w2 = numerador_w2 / denominador_w2\n",
    "\n",
    "# Muestra el resultado\n",
    "print(\"El valor de w2 es:\", w2)\n",
    "\n",
    "# Calcula el riesgo mínimo\n",
    "riesgo_minimo = np.dot(np.dot(w2, matriz_covarianza), w2.T)\n",
    "\n",
    "# Calcula el rendimiento\n",
    "rendimiento = np.dot(rendimiento_esperado_anual, w2.T)\n",
    "\n",
    "# Muestra los resultados\n",
    "print(\"Riesgo mínimo:\", riesgo_minimo)\n",
    "print(\"Rendimiento:\", rendimiento)"
   ]
  }
 ],
 "metadata": {
  "kernelspec": {
   "display_name": "Python 3",
   "language": "python",
   "name": "python3"
  },
  "language_info": {
   "codemirror_mode": {
    "name": "ipython",
    "version": 3
   },
   "file_extension": ".py",
   "mimetype": "text/x-python",
   "name": "python",
   "nbconvert_exporter": "python",
   "pygments_lexer": "ipython3",
   "version": "3.11.2"
  }
 },
 "nbformat": 4,
 "nbformat_minor": 2
}
